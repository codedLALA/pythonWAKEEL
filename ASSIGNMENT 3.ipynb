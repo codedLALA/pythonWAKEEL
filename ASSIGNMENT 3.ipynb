{
 "cells": [
  {
   "cell_type": "markdown",
   "metadata": {},
   "source": [
    "# write a program to reverse the given tuple (46,53,45,48,55,45,49,51,51,58,50,55,53,57,50,46,55,55,47,57,55)\n",
    "\n",
    "# write a program to access value 58 from above tuple\n",
    "\n",
    "# write a program to counts the number of occurences of item 55 from the above tuple\n",
    "\n",
    "# write a program to return values 49 and 57 from the above tuple"
   ]
  },
  {
   "cell_type": "code",
   "execution_count": 4,
   "metadata": {},
   "outputs": [
    {
     "ename": "AttributeError",
     "evalue": "'tuple' object has no attribute 'reverse'",
     "output_type": "error",
     "traceback": [
      "\u001b[1;31m---------------------------------------------------------------------------\u001b[0m",
      "\u001b[1;31mAttributeError\u001b[0m                            Traceback (most recent call last)",
      "\u001b[1;32m<ipython-input-4-fef4453b76bd>\u001b[0m in \u001b[0;36m<module>\u001b[1;34m\u001b[0m\n\u001b[0;32m      1\u001b[0m \u001b[0mnumb1\u001b[0m \u001b[1;33m=\u001b[0m \u001b[1;33m(\u001b[0m\u001b[1;36m46\u001b[0m\u001b[1;33m,\u001b[0m\u001b[1;36m53\u001b[0m\u001b[1;33m,\u001b[0m\u001b[1;36m45\u001b[0m\u001b[1;33m,\u001b[0m\u001b[1;36m48\u001b[0m\u001b[1;33m,\u001b[0m\u001b[1;36m55\u001b[0m\u001b[1;33m,\u001b[0m\u001b[1;36m45\u001b[0m\u001b[1;33m,\u001b[0m\u001b[1;36m49\u001b[0m\u001b[1;33m,\u001b[0m\u001b[1;36m51\u001b[0m\u001b[1;33m,\u001b[0m\u001b[1;36m51\u001b[0m\u001b[1;33m,\u001b[0m\u001b[1;36m58\u001b[0m\u001b[1;33m,\u001b[0m\u001b[1;36m50\u001b[0m\u001b[1;33m,\u001b[0m\u001b[1;36m55\u001b[0m\u001b[1;33m,\u001b[0m\u001b[1;36m53\u001b[0m\u001b[1;33m,\u001b[0m\u001b[1;36m57\u001b[0m\u001b[1;33m,\u001b[0m\u001b[1;36m50\u001b[0m\u001b[1;33m,\u001b[0m\u001b[1;36m46\u001b[0m\u001b[1;33m,\u001b[0m\u001b[1;36m55\u001b[0m\u001b[1;33m,\u001b[0m\u001b[1;36m55\u001b[0m\u001b[1;33m,\u001b[0m\u001b[1;36m47\u001b[0m\u001b[1;33m,\u001b[0m\u001b[1;36m57\u001b[0m\u001b[1;33m,\u001b[0m\u001b[1;36m55\u001b[0m\u001b[1;33m)\u001b[0m\u001b[1;33m\u001b[0m\u001b[1;33m\u001b[0m\u001b[0m\n\u001b[1;32m----> 2\u001b[1;33m \u001b[0mnumb1\u001b[0m\u001b[1;33m.\u001b[0m\u001b[0mreverse\u001b[0m\u001b[1;33m(\u001b[0m\u001b[1;33m)\u001b[0m\u001b[1;33m\u001b[0m\u001b[1;33m\u001b[0m\u001b[0m\n\u001b[0m\u001b[0;32m      3\u001b[0m \u001b[0mprint\u001b[0m\u001b[1;33m(\u001b[0m\u001b[0mnumb1\u001b[0m\u001b[1;33m)\u001b[0m\u001b[1;33m\u001b[0m\u001b[1;33m\u001b[0m\u001b[0m\n",
      "\u001b[1;31mAttributeError\u001b[0m: 'tuple' object has no attribute 'reverse'"
     ]
    }
   ],
   "source": [
    "numb1 = (46,53,45,48,55,45,49,51,51,58,50,55,53,57,50,46,55,55,47,57,55)\n",
    "numb1.reverse()\n",
    "print(numb1)"
   ]
  },
  {
   "cell_type": "code",
   "execution_count": 5,
   "metadata": {},
   "outputs": [
    {
     "name": "stdout",
     "output_type": "stream",
     "text": [
      "58\n"
     ]
    }
   ],
   "source": [
    "print(numb1[9])"
   ]
  },
  {
   "cell_type": "code",
   "execution_count": 6,
   "metadata": {},
   "outputs": [
    {
     "name": "stdout",
     "output_type": "stream",
     "text": [
      "5\n"
     ]
    }
   ],
   "source": [
    "print(numb1.count(55))"
   ]
  },
  {
   "cell_type": "code",
   "execution_count": 7,
   "metadata": {},
   "outputs": [
    {
     "ename": "SyntaxError",
     "evalue": "invalid syntax (<ipython-input-7-ac628113fe2c>, line 1)",
     "output_type": "error",
     "traceback": [
      "\u001b[1;36m  File \u001b[1;32m\"<ipython-input-7-ac628113fe2c>\"\u001b[1;36m, line \u001b[1;32m1\u001b[0m\n\u001b[1;33m    numb1.return(49,57)\u001b[0m\n\u001b[1;37m          ^\u001b[0m\n\u001b[1;31mSyntaxError\u001b[0m\u001b[1;31m:\u001b[0m invalid syntax\n"
     ]
    }
   ],
   "source": [
    "numb1.return(49,57)\n",
    "print(numb1)"
   ]
  },
  {
   "cell_type": "code",
   "execution_count": null,
   "metadata": {},
   "outputs": [],
   "source": [
    "# LIST"
   ]
  },
  {
   "cell_type": "code",
   "execution_count": 10,
   "metadata": {},
   "outputs": [
    {
     "name": "stdout",
     "output_type": "stream",
     "text": [
      "[55, 57, 47, 55, 55, 46, 50, 57, 53, 55, 50, 58, 51, 51, 49, 45, 55, 48, 45, 53, 46]\n"
     ]
    }
   ],
   "source": [
    "numb=[46,53,45,48,55,45,49,51,51,58,50,55,53,57,50,46,55,55,47,57,55]\n",
    "numb.reverse()\n",
    "print(numb)"
   ]
  },
  {
   "cell_type": "code",
   "execution_count": 11,
   "metadata": {},
   "outputs": [
    {
     "data": {
      "text/plain": [
       "55"
      ]
     },
     "execution_count": 11,
     "metadata": {},
     "output_type": "execute_result"
    }
   ],
   "source": [
    "numb.pop(9)"
   ]
  },
  {
   "cell_type": "code",
   "execution_count": null,
   "metadata": {},
   "outputs": [],
   "source": []
  },
  {
   "cell_type": "code",
   "execution_count": 12,
   "metadata": {},
   "outputs": [
    {
     "name": "stdout",
     "output_type": "stream",
     "text": [
      "20\n"
     ]
    }
   ],
   "source": [
    "print(len(numb))"
   ]
  },
  {
   "cell_type": "code",
   "execution_count": 13,
   "metadata": {},
   "outputs": [
    {
     "name": "stdout",
     "output_type": "stream",
     "text": [
      "2\n"
     ]
    }
   ],
   "source": [
    "print(numb.count(51))"
   ]
  },
  {
   "cell_type": "code",
   "execution_count": 15,
   "metadata": {},
   "outputs": [
    {
     "name": "stdout",
     "output_type": "stream",
     "text": [
      "45 57\n"
     ]
    }
   ],
   "source": [
    "print(numb[14],numb[7])"
   ]
  },
  {
   "cell_type": "code",
   "execution_count": 16,
   "metadata": {},
   "outputs": [
    {
     "name": "stdout",
     "output_type": "stream",
     "text": [
      "[55, 57, 47, 55, 55, 46, 50, 57, 53, 50, 58, 51, 51, 49, 69, 45, 55, 48, 45, 53, 46]\n"
     ]
    }
   ],
   "source": [
    "numb.insert(14,int(69))\n",
    "print(numb)"
   ]
  },
  {
   "cell_type": "code",
   "execution_count": 20,
   "metadata": {},
   "outputs": [
    {
     "name": "stdout",
     "output_type": "stream",
     "text": [
      "[55, 57, 47, 55, 55, 46, 50, 57, 53, 55, 50, 58, 51, 51, 69, 49, 45, 55, 48, 45, 53, 46, 89, 85, 36, 95, 45, 78]\n"
     ]
    }
   ],
   "source": [
    "numb2 = [89,85,36,95,45,78]\n",
    "numb.extend(numb2)\n",
    "print(numb)"
   ]
  },
  {
   "cell_type": "code",
   "execution_count": null,
   "metadata": {},
   "outputs": [],
   "source": [
    "# DICTIONARY\n",
    "# Write a Python program to create a new dictionary\n",
    "# having 10 football club names as the key with each key holding the following values\n",
    "# (location,managersname,clubcaptain,networth,clubformation)"
   ]
  },
  {
   "cell_type": "code",
   "execution_count": 30,
   "metadata": {},
   "outputs": [
    {
     "name": "stdout",
     "output_type": "stream",
     "text": [
      "{1: {'name': 'Arsenal', 'Location': 'London', 'Manager Name': 'Arteta', 'Club Captain': 'Giroud', 'Net Worth': '$100 Billion', 'Formation': '4:4:2'}, 2: {'name': 'Man City', 'Location': 'Manchester', 'Manager Name': 'Guardiolla', 'Club Captain': 'Aguero', 'Net Worth': '$150 Billion', 'Formation': '4:1:3:2'}, 3: {'name': 'Man United', 'Location': 'Manchester', 'Manager Name': 'ole', 'Club Captain': 'Ronaldo', 'Net Worth': '$500 Billion', 'Formation': '4:4:2'}, 4: {'name': 'Liverpool', 'Location': 'Liverpool', 'Manager Name': 'Enrique', 'Club Captain': 'Sallah', 'Net Worth': '$300 Billion', 'Formation': '4:4:2'}, 5: {'name': 'Chelsea', 'Location': 'Cenral London', 'Manager Name': 'Tuchel', 'Club Captain': 'Drogba', 'Net Worth': '$400 Billion', 'Formation': '4:3:3'}, 6: {'name': 'Bolton FC', 'Location': 'East London', 'Manager Name': 'Orlando', 'Club Captain': 'Yakubu', 'Net Worth': '$200 Billion', 'Formation': '4:4:2'}, 7: {'name': 'Barcelona FC', 'Location': 'Spain', 'Manager Name': 'Iniesta', 'Club Captain': 'Pique', 'Net Worth': '$700 Billion', 'Formation': '4:1:3:2'}, 8: {'name': 'Real Madrid FC', 'Location': 'Madrid', 'Manager Name': 'Anceloti', 'Club Captain': 'Benzema', 'Net Worth': '$900 Billion', 'Formation': '4:4:2'}, 9: {'name': 'PSG FC', 'Location': 'France', 'Manager Name': 'Mourinho', 'Club Captain': 'Messi', 'Net Worth': '$750 Billion', 'Formation': '4:4:2'}, 10: {'name': 'Kano Pillars', 'Location': 'Kano', 'Manager Name': 'Coach Aminu', 'Club Captain': 'Ahmed Musa', 'Net Worth': '$1 Billion', 'Formation': '4:3:2:1'}}\n"
     ]
    }
   ],
   "source": [
    "c1={\"name\":\"Arsenal\",\"Location\":\"London\", \"Manager Name\":\"Arteta\",\"Club Captain\":\"Giroud\",\"Net Worth\":\"$100 Billion\",\"Formation\": \"4:4:2\"}\n",
    "c2={\"name\":\"Man City\",\"Location\":\"Manchester\", \"Manager Name\":\"Guardiolla\",\"Club Captain\":\"Aguero\",\"Net Worth\":\"$150 Billion\",\"Formation\": \"4:1:3:2\"}\n",
    "c3={\"name\":\"Man United\",\"Location\":\"Manchester\", \"Manager Name\":\"ole\",\"Club Captain\":\"Ronaldo\",\"Net Worth\":\"$500 Billion\",\"Formation\": \"4:4:2\"}\n",
    "c4={\"name\":\"Liverpool\",\"Location\":\"Liverpool\", \"Manager Name\":\"Enrique\",\"Club Captain\":\"Sallah\",\"Net Worth\":\"$300 Billion\",\"Formation\": \"4:4:2\"}\n",
    "c5={\"name\":\"Chelsea\",\"Location\":\"Cenral London\", \"Manager Name\":\"Tuchel\",\"Club Captain\":\"Drogba\",\"Net Worth\":\"$400 Billion\",\"Formation\": \"4:3:3\"}\n",
    "c6={\"name\":\"Bolton FC\",\"Location\":\"East London\", \"Manager Name\":\"Orlando\",\"Club Captain\":\"Yakubu\",\"Net Worth\":\"$200 Billion\",\"Formation\": \"4:4:2\"}\n",
    "c7={\"name\":\"Barcelona FC\",\"Location\":\"Spain\", \"Manager Name\":\"Iniesta\",\"Club Captain\":\"Pique\",\"Net Worth\":\"$700 Billion\",\"Formation\": \"4:1:3:2\"}\n",
    "c8={\"name\":\"Real Madrid FC\",\"Location\":\"Madrid\", \"Manager Name\":\"Anceloti\",\"Club Captain\":\"Benzema\",\"Net Worth\":\"$900 Billion\",\"Formation\": \"4:4:2\"}\n",
    "c9={\"name\":\"PSG FC\",\"Location\":\"France\", \"Manager Name\":\"Mourinho\",\"Club Captain\":\"Messi\",\"Net Worth\":\"$750 Billion\",\"Formation\": \"4:4:2\"}\n",
    "c10={\"name\":\"Kano Pillars\",\"Location\":\"Kano\", \"Manager Name\":\"Coach Aminu\",\"Club Captain\":\"Ahmed Musa\",\"Net Worth\":\"$1 Billion\",\"Formation\": \"4:3:2:1\"}\n",
    "clubs =  {1:c1,2:c2,3:c3,4:c4,5:c5,6:c6,7:c7,8:c8,9:c9,10:c10}\n",
    "print(clubs)"
   ]
  },
  {
   "cell_type": "code",
   "execution_count": 31,
   "metadata": {},
   "outputs": [
    {
     "name": "stdout",
     "output_type": "stream",
     "text": [
      "{'name': 'Real Madrid FC', 'Location': 'Madrid', 'Manager Name': 'Anceloti', 'Club Captain': 'Benzema', 'Net Worth': '$900 Billion', 'Formation': '4:4:2'}\n"
     ]
    }
   ],
   "source": [
    "print(clubs[8])"
   ]
  },
  {
   "cell_type": "code",
   "execution_count": 32,
   "metadata": {},
   "outputs": [
    {
     "name": "stdout",
     "output_type": "stream",
     "text": [
      "{'name': 'Chelsea', 'Location': 'Cenral London', 'Manager Name': 'Tuchel', 'Club Captain': 'Drogba', 'Net Worth': '$400 Billion', 'Formation': '4:3:3'}\n"
     ]
    }
   ],
   "source": [
    "print(clubs[5])"
   ]
  },
  {
   "cell_type": "code",
   "execution_count": 33,
   "metadata": {},
   "outputs": [
    {
     "name": "stdout",
     "output_type": "stream",
     "text": [
      "{'name': 'Bolton FC', 'Location': 'East London', 'Manager Name': 'Orlando', 'Club Captain': 'Yakubu', 'Net Worth': '$200 Billion', 'Formation': '4:4:2'} {'name': 'Man United', 'Location': 'Manchester', 'Manager Name': 'ole', 'Club Captain': 'Ronaldo', 'Net Worth': '$500 Billion', 'Formation': '4:4:2'}\n"
     ]
    }
   ],
   "source": [
    "print(clubs[6] , clubs[3])"
   ]
  },
  {
   "cell_type": "code",
   "execution_count": null,
   "metadata": {},
   "outputs": [],
   "source": []
  }
 ],
 "metadata": {
  "kernelspec": {
   "display_name": "Python 3",
   "language": "python",
   "name": "python3"
  },
  "language_info": {
   "codemirror_mode": {
    "name": "ipython",
    "version": 3
   },
   "file_extension": ".py",
   "mimetype": "text/x-python",
   "name": "python",
   "nbconvert_exporter": "python",
   "pygments_lexer": "ipython3",
   "version": "3.8.5"
  }
 },
 "nbformat": 4,
 "nbformat_minor": 4
}
