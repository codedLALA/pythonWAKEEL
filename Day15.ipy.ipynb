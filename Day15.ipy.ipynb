{
 "cells": [
  {
   "cell_type": "code",
   "execution_count": 1,
   "metadata": {},
   "outputs": [],
   "source": [
    "#writing an IQ test using this formula\n",
    "#IQ = matalage/physicalage"
   ]
  },
  {
   "cell_type": "code",
   "execution_count": 1,
   "metadata": {},
   "outputs": [
    {
     "name": "stdout",
     "output_type": "stream",
     "text": [
      "Please provide age: 40\n",
      "What is the key difference between list and tuple:mutable and immutable\n",
      "What type of language is python:Programming\n",
      "What is the full meaning og PEP:Python enhancement proposal\n",
      "How many iterable object did we study in course of progam:4\n",
      "Variable is classified into how many part:2\n",
      "What is __init__:Constructor\n",
      "What does this code [::-1] stand for:break order\n",
      "how many comparison operator do we have:6\n",
      "Where,from,set are called what:clause\n",
      "Hey your IQ test score is 87.5 low average score Read more\n"
     ]
    }
   ],
   "source": [
    "physicalage = int(input('Please provide age: '))\n",
    "mentalage = 0\n",
    "output = {\n",
    "    'Q1':['Mutable and Immutable','Immutable and Unchangeable','Slower and Chnageable'],\n",
    "    'Q2':['Scrpting','Programming','High Level','Machine'],\n",
    "    'Q3':['Python enhancement proposal','Python engaged scheme','Python encode program'],\n",
    "    'Q4':[5,7,3,9,4],\n",
    "    'Q5':[6,7,5,8,4],\n",
    "    'Q6':[4,2,3,7,5],\n",
    "    'Q7':['Constructor','Behaviour','Code','Feautures'],\n",
    "    'Q8':['Continous order','pass order','break order','reverse order'],\n",
    "    'Q9':[5,7,6,8],\n",
    "    'Q10':['Queries','Funtion','class','clause']\n",
    "}\n",
    "\n",
    "answer = input('What is the key difference between list and tuple:')\n",
    "if answer == output['Q1'][0]:\n",
    "    mentalage += 5\n",
    "else:\n",
    "    mentalage +=0\n",
    "answer = input('What type of language is python:')\n",
    "if answer == output['Q2'][1]:\n",
    "    mentalage += 5\n",
    "else:\n",
    "    mentalage +=0\n",
    "answer = input('What is the full meaning og PEP:')\n",
    "if answer == output['Q3'][0]:\n",
    "    mentalage += 5\n",
    "else:\n",
    "    mentalage +=0\n",
    "answer = int(input('How many iterable object did we study in course of progam:'))\n",
    "if answer == output['Q5'][4]:\n",
    "    mentalage +=5\n",
    "else:\n",
    "    mentalage +=0\n",
    "answer = int(input('Variable is classified into how many part:'))\n",
    "if answer == output['Q6'][1]:\n",
    "    mentalage += 5\n",
    "else:\n",
    "    mentalage+=0\n",
    "answer = input('What is __init__:')\n",
    "if answer == output['Q7'][0]:\n",
    "    mentalage += 5\n",
    "else:\n",
    "    mentalage +=0\n",
    "answer = input('What does this code [::-1] stand for:')\n",
    "if answer == output['Q8'][3]:\n",
    "    mentalage +=5\n",
    "else:\n",
    "    mentalage +=0\n",
    "answer = int(input('how many comparison operator do we have:'))\n",
    "if answer == output['Q9'][2]:\n",
    "    mentalage +=5\n",
    "else:\n",
    "    mentalage +=0\n",
    "answer = input('Where,from,set are called what:')\n",
    "if answer == output['Q10'][3]:\n",
    "    mentalage += 5\n",
    "else:\n",
    "    mentalage +=0\n",
    "IQ=(mentalage/physicalage)*100\n",
    "if IQ <=70 and IQ < 80:\n",
    "    print(f'Hey your IQ test score is {IQ} poor score Read more')\n",
    "elif IQ >=80 and IQ <=89:\n",
    "    print(f'Hey your IQ test score is {IQ} low average score Read more')\n",
    "elif IQ >= 90 and IQ <=109:\n",
    "    print(f'Hey your IQ test score is {IQ} average score Read more')\n",
    "elif IQ >= 110 and IQ <= 119:\n",
    "    print(f'Hey your IQ test score is {IQ} High average score Read more')\n",
    "elif IQ >= 120 and IQ >= 140:\n",
    "    print(f'Hey your IQ test score is {IQ} you are superior')\n",
    "else:\n",
    "    print(f'Hey your IQ test score is {IQ} you are a Genius')"
   ]
  },
  {
   "cell_type": "code",
   "execution_count": 3,
   "metadata": {},
   "outputs": [],
   "source": [
    "#w,r,a,r+\n",
    "#w means write\n",
    "#r means read\n",
    "#a means append\n",
    "#r+ means read before you append"
   ]
  },
  {
   "cell_type": "code",
   "execution_count": 5,
   "metadata": {},
   "outputs": [],
   "source": [
    "file1 = open('demo.doc','w')\n",
    "file1.write('''Hey welcome to Early code Training center\n",
    "We offer  the following courses\n",
    "1. Python with data science\n",
    "2. Fullstack Webdevelopment\n",
    "3. Andriod and IOS app Development\n",
    "''')\n",
    "file1.close()"
   ]
  },
  {
   "cell_type": "code",
   "execution_count": 8,
   "metadata": {},
   "outputs": [
    {
     "name": "stdout",
     "output_type": "stream",
     "text": [
      "Hey welcome to Early code Training center\n",
      "We offer  the following courses\n",
      "1. Python with data science\n",
      "2. Fullstack Webdevelopment\n",
      "3. Andriod and IOS app Development\n",
      "contact us at no.62 Gado Nasko Road ist floor Pronet Mall kubwa Abuja\n"
     ]
    }
   ],
   "source": [
    "file2 =open('demo.doc','r')\n",
    "print(file2.read())\n",
    "file2.close()"
   ]
  },
  {
   "cell_type": "code",
   "execution_count": 7,
   "metadata": {},
   "outputs": [],
   "source": [
    "file3 = open('demo.doc','a')\n",
    "file3.write('contact us at no.62 Gado Nasko Road ist floor Pronet Mall kubwa Abuja')\n",
    "file3.close()"
   ]
  },
  {
   "cell_type": "code",
   "execution_count": 9,
   "metadata": {},
   "outputs": [
    {
     "name": "stdout",
     "output_type": "stream",
     "text": [
      "Hey welcome to Early code Training center\n",
      "We offer  the following courses\n",
      "1. Python with data science\n",
      "2. Fullstack Webdevelopment\n",
      "3. Andriod and IOS app Development\n",
      "contact us at no.62 Gado Nasko Road ist floor Pronet Mall kubwa Abuja\n"
     ]
    }
   ],
   "source": [
    "file4 = open('demo.doc','r+')\n",
    "print(file4.read())\n",
    "file4.write('We are always at your service')\n",
    "file4.close()"
   ]
  },
  {
   "cell_type": "code",
   "execution_count": null,
   "metadata": {},
   "outputs": [],
   "source": []
  }
 ],
 "metadata": {
  "kernelspec": {
   "display_name": "Python 3",
   "language": "python",
   "name": "python3"
  },
  "language_info": {
   "codemirror_mode": {
    "name": "ipython",
    "version": 3
   },
   "file_extension": ".py",
   "mimetype": "text/x-python",
   "name": "python",
   "nbconvert_exporter": "python",
   "pygments_lexer": "ipython3",
   "version": "3.8.5"
  }
 },
 "nbformat": 4,
 "nbformat_minor": 4
}
