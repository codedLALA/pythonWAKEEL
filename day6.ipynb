{
 "cells": [
  {
   "cell_type": "markdown",
   "metadata": {},
   "source": [
    "# function"
   ]
  },
  {
   "cell_type": "code",
   "execution_count": 4,
   "metadata": {},
   "outputs": [],
   "source": [
    "def greet(): # A function without a parameter or an argument\n",
    "    return 'hey welcome to python class'"
   ]
  },
  {
   "cell_type": "code",
   "execution_count": 5,
   "metadata": {},
   "outputs": [
    {
     "data": {
      "text/plain": [
       "'hey welcome to python class'"
      ]
     },
     "execution_count": 5,
     "metadata": {},
     "output_type": "execute_result"
    }
   ],
   "source": [
    "greet()"
   ]
  },
  {
   "cell_type": "code",
   "execution_count": 6,
   "metadata": {},
   "outputs": [
    {
     "data": {
      "text/plain": [
       "'hey welcome to python class'"
      ]
     },
     "execution_count": 6,
     "metadata": {},
     "output_type": "execute_result"
    }
   ],
   "source": [
    "greet()"
   ]
  },
  {
   "cell_type": "code",
   "execution_count": 8,
   "metadata": {},
   "outputs": [
    {
     "data": {
      "text/plain": [
       "'hey paul welcome to python class'"
      ]
     },
     "execution_count": 8,
     "metadata": {},
     "output_type": "execute_result"
    }
   ],
   "source": [
    "def greet2(name): \n",
    "    return f'hey {name} welcome to python class'\n",
    "greet2('paul')"
   ]
  },
  {
   "cell_type": "code",
   "execution_count": 9,
   "metadata": {},
   "outputs": [
    {
     "data": {
      "text/plain": [
       "'hey wakeel welcome to python class'"
      ]
     },
     "execution_count": 9,
     "metadata": {},
     "output_type": "execute_result"
    }
   ],
   "source": [
    "greet2('wakeel')"
   ]
  },
  {
   "cell_type": "code",
   "execution_count": 23,
   "metadata": {},
   "outputs": [
    {
     "name": "stdout",
     "output_type": "stream",
     "text": [
      "Please provide your nameMURITALA Wakeel\n",
      "Please provide your Gendermale\n",
      "please provide your Age30\n",
      "Name: MURITALA Wakeel\n",
      "Gender:male\n",
      "Age:30\n",
      "\n",
      "Congratulation you are eligible to vote\n"
     ]
    }
   ],
   "source": [
    "def vote(Name,Gender,Age):\n",
    "    print(f'''Name: {Name}\n",
    "Gender:{Gender}\n",
    "Age:{Age}\n",
    "''')\n",
    "    if Age >=18:\n",
    "        print('Congratulation you are eligible to vote')\n",
    "    else:\n",
    "        print('OPSS!! Sorry you are not eligible to vote')\n",
    "        \n",
    "vote(input('Please provide your name:'),input('Please provide your Gender:'),int(input('please provide your Age:')))    "
   ]
  },
  {
   "cell_type": "code",
   "execution_count": 24,
   "metadata": {},
   "outputs": [
    {
     "name": "stdout",
     "output_type": "stream",
     "text": [
      "Please provide your name:ojo david\n",
      "Please provide your Gender:male\n",
      "Name: ojo david\n",
      "Gender:male\n",
      "Age:18\n",
      "\n",
      "Congratulation you are eligible to vote\n"
     ]
    }
   ],
   "source": [
    "def vote(Name,Gender,Age=18):\n",
    "    print(f'''Name: {Name}\n",
    "Gender:{Gender}\n",
    "Age:{Age}\n",
    "''')\n",
    "    if Age >=18:\n",
    "        print('Congratulation you are eligible to vote')\n",
    "    else:\n",
    "        print('OPSS!! Sorry you are not eligible to vote')\n",
    "        \n",
    "vote(input('Please provide your name:'),input('Please provide your Gender:'))   "
   ]
  },
  {
   "cell_type": "code",
   "execution_count": 25,
   "metadata": {},
   "outputs": [
    {
     "name": "stdout",
     "output_type": "stream",
     "text": [
      "Please provide your name:temitope alice\n",
      "Please provide your Gender:female\n",
      "please provide your Age:17\n",
      "Name: temitope alice\n",
      "Gender:female\n",
      "Age:17\n",
      "\n",
      "OPSS!! Sorry you are not eligible to vote\n"
     ]
    }
   ],
   "source": [
    "vote(input('Please provide your name:'),input('Please provide your Gender:'),int(input('please provide your Age:')))    "
   ]
  },
  {
   "cell_type": "code",
   "execution_count": 30,
   "metadata": {},
   "outputs": [
    {
     "name": "stdout",
     "output_type": "stream",
     "text": [
      "<class 'tuple'>\n",
      "63.416666666666664\n"
     ]
    }
   ],
   "source": [
    "def average(*args):  # non keyword argument\n",
    "    print(type(args))\n",
    "    import statistics as stat\n",
    "    print(stat.mean(args))\n",
    "average(87,98,10,56,45,89,87,45,60,62,53,69)"
   ]
  },
  {
   "cell_type": "code",
   "execution_count": 32,
   "metadata": {},
   "outputs": [
    {
     "name": "stdout",
     "output_type": "stream",
     "text": [
      "<class 'tuple'>\n",
      "161\n"
     ]
    }
   ],
   "source": [
    "values = [45,10,100,120,502,250,100]  # unpacking\n",
    "average(*values)"
   ]
  },
  {
   "cell_type": "code",
   "execution_count": 36,
   "metadata": {},
   "outputs": [
    {
     "name": "stdout",
     "output_type": "stream",
     "text": [
      "<class 'dict'>\n",
      "name :['Ojukwu paul']\n",
      "Age :55\n",
      "Gender :Male\n"
     ]
    }
   ],
   "source": [
    "def details(**records):  # keyword argument\n",
    "    print(type(records))\n",
    "    for key,value in records.items():\n",
    "        print(f'{key} :{value}')\n",
    "details(name =['Ojukwu paul'],Age = 55, Gender = 'Male')"
   ]
  },
  {
   "cell_type": "code",
   "execution_count": 37,
   "metadata": {},
   "outputs": [
    {
     "name": "stdout",
     "output_type": "stream",
     "text": [
      "<class 'dict'>\n",
      "name :['Ojukwu paul', 'ojo joseph']\n",
      "Age :55\n",
      "Gender :Male\n"
     ]
    }
   ],
   "source": [
    "details(name =['Ojukwu paul', 'ojo joseph'],Age = 55, Gender = 'Male')"
   ]
  },
  {
   "cell_type": "code",
   "execution_count": 40,
   "metadata": {},
   "outputs": [
    {
     "name": "stdout",
     "output_type": "stream",
     "text": [
      "player one score9\n",
      "player two score2\n",
      "player one wins\n",
      "player one score4\n",
      "player two score6\n",
      "player two wins\n",
      "player one score11\n",
      "player two score3\n",
      "player one wins\n",
      "player one score5\n",
      "player two score7\n",
      "player two wins\n",
      "player one score7\n",
      "player two score9\n",
      "player two wins\n",
      "player one score7\n",
      "player two score6\n",
      "player one wins\n",
      "player one score10\n",
      "player two score4\n",
      "player one wins\n",
      "player one score3\n",
      "player two score6\n",
      "player two wins\n",
      "player one score6\n",
      "player two score7\n",
      "player two wins\n",
      "player one score9\n",
      "player two score6\n",
      "player one wins\n",
      "IT's A DRAW\n"
     ]
    }
   ],
   "source": [
    "def rolldice():\n",
    "    import random as rn\n",
    "    player1score = 0\n",
    "    player2score = 0\n",
    "    for x in range(1,11):\n",
    "        dice1 = sum([rn.randint(1,6),rn.randint(1,6)])\n",
    "        dice2 = sum([rn.randint(1,6),rn.randint(1,6)])\n",
    "        \n",
    "        if dice1 > dice2:\n",
    "            print(f'player one score{dice1}')\n",
    "            print(f'player two score{dice2}')\n",
    "            print('player one wins')\n",
    "            player1score = player1score + 5\n",
    "        elif dice2 > dice1:\n",
    "            print(f'player one score{dice1}')\n",
    "            print(f'player two score{dice2}')\n",
    "            print('player two wins')\n",
    "            player2score = player2score + 5\n",
    "        else:\n",
    "            print(f'player one score{dice1}')\n",
    "            print(f'player two score{dice2}')\n",
    "            print('IT\\'s A DRAW')\n",
    "            player1score = player1score + 1\n",
    "            player2score = player2score + 1\n",
    "    if player1score > player2score:\n",
    "        print(f'Player one is the overall winner with total point of {player1score}')\n",
    "    elif player2score > player1score:\n",
    "        print(f'Player two is the overall winner with total point of {player2score}')\n",
    "    else:\n",
    "        print('IT\\'s A DRAW')\n",
    "        \n",
    "rolldice()\n",
    "        "
   ]
  },
  {
   "cell_type": "code",
   "execution_count": null,
   "metadata": {},
   "outputs": [],
   "source": []
  }
 ],
 "metadata": {
  "kernelspec": {
   "display_name": "Python 3",
   "language": "python",
   "name": "python3"
  },
  "language_info": {
   "codemirror_mode": {
    "name": "ipython",
    "version": 3
   },
   "file_extension": ".py",
   "mimetype": "text/x-python",
   "name": "python",
   "nbconvert_exporter": "python",
   "pygments_lexer": "ipython3",
   "version": "3.8.5"
  }
 },
 "nbformat": 4,
 "nbformat_minor": 4
}
