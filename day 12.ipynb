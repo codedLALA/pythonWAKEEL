{
 "cells": [
  {
   "cell_type": "code",
   "execution_count": 4,
   "metadata": {},
   "outputs": [],
   "source": [
    "import pymysql"
   ]
  },
  {
   "cell_type": "code",
   "execution_count": 11,
   "metadata": {},
   "outputs": [
    {
     "name": "stdout",
     "output_type": "stream",
     "text": [
      "('earlycodestore',)\n",
      "('information_schema',)\n",
      "('mysql',)\n",
      "('performance_schema',)\n",
      "('sakila',)\n",
      "('sys',)\n",
      "('world',)\n"
     ]
    }
   ],
   "source": [
    "mydb = pymysql.connect(\n",
    "    host = 'localhost',\n",
    "    user = 'root',\n",
    "    password = 'Khairat#1'\n",
    ")\n",
    "mycursor = mydb.cursor()\n",
    "mycursor.execute('SHOW DATABASES')\n",
    "for x in mycursor:\n",
    "    print(x)"
   ]
  },
  {
   "cell_type": "code",
   "execution_count": 13,
   "metadata": {},
   "outputs": [
    {
     "name": "stdout",
     "output_type": "stream",
     "text": [
      "('adult_wears',)\n",
      "('bodyperformance',)\n",
      "('clothings',)\n",
      "('clothingtable',)\n",
      "('dairyproducts',)\n",
      "('furnitures',)\n",
      "('grouparecords',)\n",
      "('groupbrecords',)\n",
      "('groupcrecords',)\n",
      "('groupdrecords',)\n",
      "('grouperecords',)\n",
      "('phones',)\n",
      "('studentsperformance',)\n"
     ]
    }
   ],
   "source": [
    "mydb = pymysql.connect(\n",
    "    host = 'localhost',\n",
    "    user = 'root',\n",
    "    password = 'Khairat#1',\n",
    "    database = 'earlycodestore'\n",
    ")\n",
    "mycursor = mydb.cursor()\n",
    "mycursor.execute('SHOW TABLES')\n",
    "for x in mycursor:\n",
    "    print(x)\n",
    "\n"
   ]
  },
  {
   "cell_type": "code",
   "execution_count": 16,
   "metadata": {},
   "outputs": [
    {
     "name": "stdout",
     "output_type": "stream",
     "text": [
      "(482,)\n"
     ]
    }
   ],
   "source": [
    "mydb = pymysql.connect(\n",
    "    host = 'localhost',\n",
    "    user = 'root',\n",
    "    password = 'Khairat#1',\n",
    "    database = 'earlycodestore'\n",
    ")\n",
    "mycursor = mydb.cursor()\n",
    "mycursor.execute('SELECT COUNT(gender) FROM studentsperformance WHERE gender = \"male\"')\n",
    "for x in mycursor:\n",
    "    print(x)"
   ]
  },
  {
   "cell_type": "code",
   "execution_count": 17,
   "metadata": {},
   "outputs": [
    {
     "name": "stdout",
     "output_type": "stream",
     "text": [
      "(295,)\n"
     ]
    }
   ],
   "source": [
    "mydb = pymysql.connect(\n",
    "    host = 'localhost',\n",
    "    user = 'root',\n",
    "    password = 'Khairat#1',\n",
    "    database = 'earlycodestore'\n",
    ")\n",
    "mycursor = mydb.cursor()\n",
    "mycursor.execute('SELECT COUNT(*) FROM studentsperformance WHERE mathscore >= 75')\n",
    "for x in mycursor:\n",
    "    print(x)"
   ]
  },
  {
   "cell_type": "code",
   "execution_count": 18,
   "metadata": {},
   "outputs": [
    {
     "name": "stdout",
     "output_type": "stream",
     "text": [
      "(81,)\n"
     ]
    }
   ],
   "source": [
    "mydb = pymysql.connect(\n",
    "    host = 'localhost',\n",
    "    user = 'root',\n",
    "    password = 'Khairat#1',\n",
    "    database = 'earlycodestore'\n",
    ")\n",
    "mycursor = mydb.cursor()\n",
    "mycursor.execute('SELECT COUNT(DISTINCT mathscore) FROM studentsperformance ')\n",
    "for x in mycursor:\n",
    "    print(x)"
   ]
  },
  {
   "cell_type": "code",
   "execution_count": 19,
   "metadata": {},
   "outputs": [
    {
     "name": "stdout",
     "output_type": "stream",
     "text": [
      "(Decimal('66089'),)\n"
     ]
    }
   ],
   "source": [
    "mydb = pymysql.connect(\n",
    "    host = 'localhost',\n",
    "    user = 'root',\n",
    "    password = 'Khairat#1',\n",
    "    database = 'earlycodestore'\n",
    ")\n",
    "mycursor = mydb.cursor()\n",
    "mycursor.execute('SELECT SUM(mathscore) FROM studentsperformance ')\n",
    "for x in mycursor:\n",
    "    print(x)"
   ]
  },
  {
   "cell_type": "code",
   "execution_count": 23,
   "metadata": {},
   "outputs": [
    {
     "name": "stdout",
     "output_type": "stream",
     "text": [
      "(98,)\n"
     ]
    }
   ],
   "source": [
    "mydb = pymysql.connect(\n",
    "    host = 'localhost',\n",
    "    user = 'root',\n",
    "    password = 'Khairat#1',\n",
    "    database = 'earlycodestore'\n",
    ")\n",
    "mycursor = mydb.cursor()\n",
    "mycursor.execute('SELECT MAX(mathscore) AS \"RESULT\" FROM studentsperformance WHERE raceethnicity = \"group C\"')\n",
    "for x in mycursor:\n",
    "    print(x)"
   ]
  },
  {
   "cell_type": "code",
   "execution_count": 24,
   "metadata": {},
   "outputs": [
    {
     "name": "stdout",
     "output_type": "stream",
     "text": [
      "(0,)\n"
     ]
    }
   ],
   "source": [
    "mydb = pymysql.connect(\n",
    "    host = 'localhost',\n",
    "    user = 'root',\n",
    "    password = 'Khairat#1',\n",
    "    database = 'earlycodestore'\n",
    ")\n",
    "mycursor = mydb.cursor()\n",
    "mycursor.execute('SELECT MIN(mathscore) AS \"RESULT\" FROM studentsperformance WHERE raceethnicity = \"group C\"')\n",
    "for x in mycursor:\n",
    "    print(x)"
   ]
  },
  {
   "cell_type": "code",
   "execution_count": 25,
   "metadata": {},
   "outputs": [
    {
     "name": "stdout",
     "output_type": "stream",
     "text": [
      "(Decimal('64.4639'),)\n"
     ]
    }
   ],
   "source": [
    "mycursor = mydb.cursor()\n",
    "mycursor.execute('SELECT AVG(mathscore) AS \"RESULT\" FROM studentsperformance WHERE raceethnicity = \"group C\"')\n",
    "for x in mycursor:\n",
    "    print(x)"
   ]
  },
  {
   "cell_type": "code",
   "execution_count": 26,
   "metadata": {},
   "outputs": [
    {
     "name": "stdout",
     "output_type": "stream",
     "text": [
      "(72,)\n",
      "(90,)\n",
      "(95,)\n"
     ]
    }
   ],
   "source": [
    "mycursor = mydb.cursor()\n",
    "mycursor.execute('SELECT readingscore FROM studentsperformance LIMIT 3')\n",
    "for x in mycursor:\n",
    "    print(x)"
   ]
  },
  {
   "cell_type": "code",
   "execution_count": 29,
   "metadata": {},
   "outputs": [
    {
     "name": "stdout",
     "output_type": "stream",
     "text": [
      "(1, 'female', 'group B', \"bachelor's degree\", 'standard', 'none', 72, 72, 74)\n",
      "(2, 'female', 'group C', 'some college', 'standard', 'completed', 69, 90, 88)\n",
      "(3, 'female', 'group B', \"master's degree\", 'standard', 'none', 90, 95, 93)\n"
     ]
    }
   ],
   "source": [
    "mycursor = mydb.cursor()\n",
    "mycursor.execute('SELECT * FROM studentsperformance LIMIT 3')\n",
    "for x in mycursor:\n",
    "    print(x)"
   ]
  },
  {
   "cell_type": "code",
   "execution_count": 28,
   "metadata": {},
   "outputs": [],
   "source": [
    "mycursor = mydb.cursor()\n",
    "mycursor.execute('ALTER TABLE studentsperformance ADD COLUMN ID INT PRIMARY KEY NOT NULL AUTO_INCREMENT FIRST')\n",
    "mydb.commit()"
   ]
  },
  {
   "cell_type": "code",
   "execution_count": 30,
   "metadata": {},
   "outputs": [
    {
     "name": "stdout",
     "output_type": "stream",
     "text": [
      "(1000, 'female', 'group D', 'some college', 'free/reduced', 'none', 77, 86, 86)\n",
      "(999, 'female', 'group D', 'some college', 'standard', 'completed', 68, 78, 77)\n",
      "(998, 'female', 'group C', 'high school', 'free/reduced', 'completed', 59, 71, 65)\n"
     ]
    }
   ],
   "source": [
    "mycursor = mydb.cursor()\n",
    "mycursor.execute('SELECT * FROM studentsperformance ORDER BY ID DESC LIMIT 3')\n",
    "for x in mycursor:\n",
    "    print(x)"
   ]
  },
  {
   "cell_type": "code",
   "execution_count": null,
   "metadata": {},
   "outputs": [],
   "source": []
  }
 ],
 "metadata": {
  "kernelspec": {
   "display_name": "Python 3",
   "language": "python",
   "name": "python3"
  },
  "language_info": {
   "codemirror_mode": {
    "name": "ipython",
    "version": 3
   },
   "file_extension": ".py",
   "mimetype": "text/x-python",
   "name": "python",
   "nbconvert_exporter": "python",
   "pygments_lexer": "ipython3",
   "version": "3.8.5"
  }
 },
 "nbformat": 4,
 "nbformat_minor": 4
}
