{
 "cells": [
  {
   "cell_type": "markdown",
   "metadata": {},
   "source": [
    "# ASSIGNMENT 2"
   ]
  },
  {
   "cell_type": "markdown",
   "metadata": {},
   "source": [
    "# display number 458 in float using print()"
   ]
  },
  {
   "cell_type": "code",
   "execution_count": 2,
   "metadata": {},
   "outputs": [
    {
     "name": "stdout",
     "output_type": "stream",
     "text": [
      "458.0\n"
     ]
    }
   ],
   "source": [
    "numb1 = 458\n",
    "print(float(numb1))"
   ]
  },
  {
   "cell_type": "code",
   "execution_count": null,
   "metadata": {},
   "outputs": [],
   "source": []
  },
  {
   "cell_type": "markdown",
   "metadata": {},
   "source": [
    "# Write a program to take three names as input from a user"
   ]
  },
  {
   "cell_type": "code",
   "execution_count": 6,
   "metadata": {},
   "outputs": [
    {
     "name": "stdout",
     "output_type": "stream",
     "text": [
      "please provide your names:Muritala Wakeel Yemi\n"
     ]
    }
   ],
   "source": [
    "name1=input('please provide your names:') "
   ]
  },
  {
   "cell_type": "markdown",
   "metadata": {},
   "source": [
    "# 3"
   ]
  },
  {
   "cell_type": "code",
   "execution_count": 7,
   "metadata": {},
   "outputs": [
    {
     "name": "stdout",
     "output_type": "stream",
     "text": [
      "compound interest after 3 years of investment is : $5983.402624117073\n"
     ]
    }
   ],
   "source": [
    "pr = 5000\n",
    "rt = 6/100\n",
    "rate = rt/12\n",
    "nu = 12\n",
    "time =3\n",
    "nt = nu*time\n",
    "cp =1 + rate\n",
    "cp1 = cp**nt\n",
    "Ainterest = pr*cp1\n",
    "print (f'compound interest after 3 years of investment is : ${Ainterest}')\n"
   ]
  },
  {
   "cell_type": "markdown",
   "metadata": {},
   "source": [
    "# 4"
   ]
  },
  {
   "cell_type": "code",
   "execution_count": 22,
   "metadata": {},
   "outputs": [
    {
     "name": "stdout",
     "output_type": "stream",
     "text": [
      "1006.25\n",
      "701006.25\n"
     ]
    }
   ],
   "source": [
    "p1 = 550000\n",
    "p2 = 25000\n",
    "p3 = 35000\n",
    "r = 5/100\n",
    "n = 12\n",
    "t = 3\n",
    "estimated = 700000\n",
    "firstyear = (p1 *(1 + r)**1) + p2\n",
    "secondyear = (firstyear *(1+r)**1) + p3\n",
    "thirdyear = (secondyear *(1+r)**1)\n",
    "diff = thirdyear - estimated\n",
    "print(diff)\n",
    "print (thirdyear)"
   ]
  },
  {
   "cell_type": "code",
   "execution_count": null,
   "metadata": {},
   "outputs": [],
   "source": []
  }
 ],
 "metadata": {
  "kernelspec": {
   "display_name": "Python 3",
   "language": "python",
   "name": "python3"
  },
  "language_info": {
   "codemirror_mode": {
    "name": "ipython",
    "version": 3
   },
   "file_extension": ".py",
   "mimetype": "text/x-python",
   "name": "python",
   "nbconvert_exporter": "python",
   "pygments_lexer": "ipython3",
   "version": "3.8.5"
  }
 },
 "nbformat": 4,
 "nbformat_minor": 4
}
