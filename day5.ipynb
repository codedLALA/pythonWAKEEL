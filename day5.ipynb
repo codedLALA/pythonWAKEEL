{
 "cells": [
  {
   "cell_type": "markdown",
   "metadata": {},
   "source": [
    "# LOOPS"
   ]
  },
  {
   "cell_type": "markdown",
   "metadata": {},
   "source": [
    "# for loop"
   ]
  },
  {
   "cell_type": "code",
   "execution_count": 3,
   "metadata": {},
   "outputs": [
    {
     "name": "stdout",
     "output_type": "stream",
     "text": [
      "p\n",
      "y\n",
      "t\n",
      "h\n",
      "o\n",
      "n\n"
     ]
    }
   ],
   "source": [
    "word = 'python'\n",
    "for char in word:\n",
    "    print(char)"
   ]
  },
  {
   "cell_type": "code",
   "execution_count": 4,
   "metadata": {},
   "outputs": [
    {
     "name": "stdout",
     "output_type": "stream",
     "text": [
      "ppp\n",
      "yyy\n",
      "ttt\n",
      "hhh\n",
      "ooo\n",
      "nnn\n"
     ]
    }
   ],
   "source": [
    "word = 'python'\n",
    "for char in word:\n",
    "    print(char*3)"
   ]
  },
  {
   "cell_type": "code",
   "execution_count": 5,
   "metadata": {},
   "outputs": [
    {
     "name": "stdout",
     "output_type": "stream",
     "text": [
      "Hey,kunle this is for your kind reminder of the meeting scheduled to hold by 12pm on friday 27th May 2022\n",
      "Hey,tunde this is for your kind reminder of the meeting scheduled to hold by 12pm on friday 27th May 2022\n",
      "Hey,yemi this is for your kind reminder of the meeting scheduled to hold by 12pm on friday 27th May 2022\n",
      "Hey,kola this is for your kind reminder of the meeting scheduled to hold by 12pm on friday 27th May 2022\n",
      "Hey,yomi this is for your kind reminder of the meeting scheduled to hold by 12pm on friday 27th May 2022\n"
     ]
    }
   ],
   "source": [
    "names = ['kunle','tunde','yemi','kola','yomi']\n",
    "for item in names:\n",
    "    print(f'Hey,{item} this is for your kind reminder of the meeting scheduled to hold by 12pm on friday 27th May 2022')"
   ]
  },
  {
   "cell_type": "code",
   "execution_count": 6,
   "metadata": {},
   "outputs": [
    {
     "name": "stdout",
     "output_type": "stream",
     "text": [
      "john : 89\n",
      "samuel : 98\n",
      "james : 79\n",
      "mary : 85\n",
      "yinusa : 70\n",
      "hope : 89\n"
     ]
    }
   ],
   "source": [
    "studentscore = {\n",
    "    'john':89,\n",
    "    'samuel':98,\n",
    "    'james':79,\n",
    "    'mary': 85,\n",
    "    'yinusa': 70,\n",
    "    'hope' :89\n",
    "}\n",
    "for key,value in studentscore.items():\n",
    "    print(key, ':', value)"
   ]
  },
  {
   "cell_type": "code",
   "execution_count": 12,
   "metadata": {},
   "outputs": [
    {
     "name": "stdout",
     "output_type": "stream",
     "text": [
      "please provide your name to check your result :james\n",
      "your score is : 79\n"
     ]
    }
   ],
   "source": [
    "studentscore = {\n",
    "    'john':89,\n",
    "    'samuel':98,\n",
    "    'james':79,\n",
    "    'mary': 85,\n",
    "    'yinusa': 70,\n",
    "    'hope' :89\n",
    "}\n",
    "name = input('please provide your name to check your result :')\n",
    "for key in studentscore:\n",
    "    if key == name:\n",
    "        print(f'your score is : {studentscore[key]}')\n",
    "        break\n",
    "else:\n",
    "    print('sorry name not found')\n",
    "            "
   ]
  },
  {
   "cell_type": "code",
   "execution_count": 11,
   "metadata": {},
   "outputs": [
    {
     "name": "stdout",
     "output_type": "stream",
     "text": [
      "please provide your name to check your result :hope\n",
      "your score is: 89\n",
      "sorry name not found\n"
     ]
    }
   ],
   "source": [
    "studentscore = {\n",
    "    'john':89,\n",
    "    'samuel':98,\n",
    "    'james':79,\n",
    "    'mary': 85,\n",
    "    'yinusa': 70,\n",
    "    'hope' :89\n",
    "}\n",
    "name = input('please provide your name to check your result :')\n",
    "for key in studentscore:\n",
    "    if key == name:\n",
    "        print(f'your score is: {studentscore[key]}')\n",
    "        continue\n",
    "else:\n",
    "    print('sorry name not found')\n",
    "            "
   ]
  },
  {
   "cell_type": "code",
   "execution_count": 15,
   "metadata": {},
   "outputs": [
    {
     "name": "stdout",
     "output_type": "stream",
     "text": [
      "1\n",
      "4\n",
      "9\n",
      "16\n",
      "25\n",
      "36\n",
      "49\n",
      "64\n",
      "81\n",
      "100\n",
      "121\n",
      "144\n"
     ]
    }
   ],
   "source": [
    "for num in range (1,13):\n",
    "    print(num**2)"
   ]
  },
  {
   "cell_type": "code",
   "execution_count": 20,
   "metadata": {},
   "outputs": [
    {
     "name": "stdout",
     "output_type": "stream",
     "text": [
      "please provide a number:45\n",
      "45 x 1= 45\n",
      "45 x 2= 90\n",
      "45 x 3= 135\n",
      "45 x 4= 180\n",
      "45 x 5= 225\n",
      "45 x 6= 270\n",
      "45 x 7= 315\n",
      "45 x 8= 360\n",
      "45 x 9= 405\n",
      "45 x 10= 450\n",
      "45 x 11= 495\n",
      "45 x 12= 540\n"
     ]
    }
   ],
   "source": [
    "num = int(input('please provide a number:'))\n",
    "for i in range(1,13):\n",
    "    print(f'{num} x {i}= {num*i}')"
   ]
  },
  {
   "cell_type": "code",
   "execution_count": 22,
   "metadata": {},
   "outputs": [
    {
     "name": "stdout",
     "output_type": "stream",
     "text": [
      "please provide a number:6\n",
      "the square root of 6 is 2.449489742783178\n",
      "please provide a number:8\n",
      "the square root of 8 is 2.8284271247461903\n",
      "please provide a number:9\n",
      "the square root of 9 is 3.0\n",
      "please provide a number:10\n",
      "the square root of 10 is 3.1622776601683795\n",
      "please provide a number:0\n"
     ]
    }
   ],
   "source": [
    "import math\n",
    "num = int(input('please provide a number:'))\n",
    "counter = 1\n",
    "while num != 0:\n",
    "    print(f'the square root of {num} is {math.sqrt(num)}')\n",
    "    counter = counter + 1\n",
    "    num = int(input('please provide a number:'))"
   ]
  },
  {
   "cell_type": "code",
   "execution_count": 29,
   "metadata": {},
   "outputs": [
    {
     "name": "stdout",
     "output_type": "stream",
     "text": [
      "please provide guess between 1 and 20: 1\n",
      "Guess is 1\n",
      "Hey, guess is lower than the generated number\n",
      "please provide guess betweeen 1 and 20: 2\n",
      "Guess is 2\n",
      "Hey, guess is lower than the generated number\n",
      "please provide guess betweeen 1 and 20: 3\n",
      "Guess is 3\n",
      "Hey, guess is lower than the generated number\n",
      "please provide guess betweeen 1 and 20: 4\n",
      "Guess is 4\n",
      "Hey, guess is lower than the generated number\n",
      "please provide guess betweeen 1 and 20: 5\n",
      "Guess is 5\n",
      "Hey, guess is lower than the generated number\n",
      "please provide guess betweeen 1 and 20: 6\n",
      "Guess is 6\n",
      "Hey, guess is lower than the generated number\n",
      "please provide guess betweeen 1 and 20: 7\n",
      "Guess is 7\n",
      "Hey, guess is lower than the generated number\n",
      "please provide guess betweeen 1 and 20: 8\n",
      "Guess is 8\n",
      "Hey, guess is lower than the generated number\n",
      "please provide guess betweeen 1 and 20: 9\n",
      "Guess is 9\n",
      "Hey, guess is lower than the generated number\n",
      "please provide guess betweeen 1 and 20: 10\n",
      "Guess is 10\n",
      "Hey, guess is lower than the generated number\n",
      "please provide guess betweeen 1 and 20: 11\n",
      "Guess is 11\n",
      "Hey, guess is lower than the generated number\n",
      "please provide guess betweeen 1 and 20: 12\n",
      "Guess is 12\n",
      "Hey, guess is lower than the generated number\n",
      "please provide guess betweeen 1 and 20: 13\n",
      "Guess is 13\n",
      "Hey, guess is lower than the generated number\n",
      "please provide guess betweeen 1 and 20: 14\n",
      "Guess is 14\n",
      "Hey, guess is lower than the generated number\n",
      "please provide guess betweeen 1 and 20: 15\n",
      "Guess is 15\n",
      "Hey, guess is lower than the generated number\n",
      "please provide guess betweeen 1 and 20: 16\n",
      "Guess is 16\n",
      "Hey, guess is lower than the generated number\n",
      "please provide guess betweeen 1 and 20: 17\n",
      "Guess is 17\n",
      "Hey, guess is lower than the generated number\n",
      "please provide guess betweeen 1 and 20: 18\n",
      "Congratulation guess is correct\n"
     ]
    }
   ],
   "source": [
    "import random\n",
    "num = random.randint(1,20)\n",
    "guess = int(input('please provide guess between 1 and 20: '))\n",
    "counter = 1\n",
    "while num != guess:\n",
    "    print(f'Guess is {guess}')\n",
    "    counter +=1\n",
    "    \n",
    "    if guess > num:\n",
    "        print('Hey, guess is higher than the generated number')\n",
    "    elif guess < num:\n",
    "        print('Hey, guess is lower than the generated number')\n",
    "    guess = int(input('please provide guess betweeen 1 and 20: '))\n",
    "print('Congratulation guess is correct')\n",
    "        \n",
    "    "
   ]
  },
  {
   "cell_type": "code",
   "execution_count": null,
   "metadata": {},
   "outputs": [],
   "source": []
  }
 ],
 "metadata": {
  "kernelspec": {
   "display_name": "Python 3",
   "language": "python",
   "name": "python3"
  },
  "language_info": {
   "codemirror_mode": {
    "name": "ipython",
    "version": 3
   },
   "file_extension": ".py",
   "mimetype": "text/x-python",
   "name": "python",
   "nbconvert_exporter": "python",
   "pygments_lexer": "ipython3",
   "version": "3.8.5"
  }
 },
 "nbformat": 4,
 "nbformat_minor": 4
}
