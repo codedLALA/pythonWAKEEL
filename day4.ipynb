{
 "cells": [
  {
   "cell_type": "code",
   "execution_count": 3,
   "metadata": {},
   "outputs": [],
   "source": [
    "import math"
   ]
  },
  {
   "cell_type": "code",
   "execution_count": 4,
   "metadata": {},
   "outputs": [
    {
     "name": "stdout",
     "output_type": "stream",
     "text": [
      "['__doc__', '__loader__', '__name__', '__package__', '__spec__', 'acos', 'acosh', 'asin', 'asinh', 'atan', 'atan2', 'atanh', 'ceil', 'comb', 'copysign', 'cos', 'cosh', 'degrees', 'dist', 'e', 'erf', 'erfc', 'exp', 'expm1', 'fabs', 'factorial', 'floor', 'fmod', 'frexp', 'fsum', 'gamma', 'gcd', 'hypot', 'inf', 'isclose', 'isfinite', 'isinf', 'isnan', 'isqrt', 'ldexp', 'lgamma', 'log', 'log10', 'log1p', 'log2', 'modf', 'nan', 'perm', 'pi', 'pow', 'prod', 'radians', 'remainder', 'sin', 'sinh', 'sqrt', 'tan', 'tanh', 'tau', 'trunc']\n"
     ]
    }
   ],
   "source": [
    "print(dir(math))"
   ]
  },
  {
   "cell_type": "code",
   "execution_count": 5,
   "metadata": {},
   "outputs": [
    {
     "name": "stdout",
     "output_type": "stream",
     "text": [
      "16\n",
      "15\n"
     ]
    }
   ],
   "source": [
    "number = 15.56\n",
    "print(math.ceil(number))\n",
    "print(math.floor(number))"
   ]
  },
  {
   "cell_type": "code",
   "execution_count": 6,
   "metadata": {},
   "outputs": [
    {
     "name": "stdout",
     "output_type": "stream",
     "text": [
      "['Counter', 'Decimal', 'Fraction', 'NormalDist', 'StatisticsError', '__all__', '__builtins__', '__cached__', '__doc__', '__file__', '__loader__', '__name__', '__package__', '__spec__', '_coerce', '_convert', '_exact_ratio', '_fail_neg', '_find_lteq', '_find_rteq', '_isfinite', '_normal_dist_inv_cdf', '_ss', '_sum', 'bisect_left', 'bisect_right', 'erf', 'exp', 'fabs', 'fmean', 'fsum', 'geometric_mean', 'groupby', 'harmonic_mean', 'hypot', 'itemgetter', 'log', 'math', 'mean', 'median', 'median_grouped', 'median_high', 'median_low', 'mode', 'multimode', 'numbers', 'pstdev', 'pvariance', 'quantiles', 'random', 'sqrt', 'stdev', 'tau', 'variance']\n"
     ]
    }
   ],
   "source": [
    "import statistics as stat\n",
    "print(dir(stat))"
   ]
  },
  {
   "cell_type": "code",
   "execution_count": 8,
   "metadata": {},
   "outputs": [
    {
     "name": "stdout",
     "output_type": "stream",
     "text": [
      "65.75\n",
      "89\n"
     ]
    }
   ],
   "source": [
    "numbers = [84,45,25,89,69,89,63,65,65,89,58,48]\n",
    "print(stat.mean(numbers))\n",
    "print(stat.mode(numbers))"
   ]
  },
  {
   "cell_type": "code",
   "execution_count": 9,
   "metadata": {},
   "outputs": [
    {
     "name": "stdout",
     "output_type": "stream",
     "text": [
      "['BPF', 'LOG4', 'NV_MAGICCONST', 'RECIP_BPF', 'Random', 'SG_MAGICCONST', 'SystemRandom', 'TWOPI', '_Sequence', '_Set', '__all__', '__builtins__', '__cached__', '__doc__', '__file__', '__loader__', '__name__', '__package__', '__spec__', '_accumulate', '_acos', '_bisect', '_ceil', '_cos', '_e', '_exp', '_inst', '_log', '_os', '_pi', '_random', '_repeat', '_sha512', '_sin', '_sqrt', '_test', '_test_generator', '_urandom', '_warn', 'betavariate', 'choice', 'choices', 'expovariate', 'gammavariate', 'gauss', 'getrandbits', 'getstate', 'lognormvariate', 'normalvariate', 'paretovariate', 'randint', 'random', 'randrange', 'sample', 'seed', 'setstate', 'shuffle', 'triangular', 'uniform', 'vonmisesvariate', 'weibullvariate']\n"
     ]
    }
   ],
   "source": [
    "import random as rn\n",
    "print(dir(rn))"
   ]
  },
  {
   "cell_type": "code",
   "execution_count": 10,
   "metadata": {},
   "outputs": [
    {
     "name": "stdout",
     "output_type": "stream",
     "text": [
      "10\n"
     ]
    }
   ],
   "source": [
    "num = rn.randint(10,25)\n",
    "print(num)"
   ]
  },
  {
   "cell_type": "code",
   "execution_count": 11,
   "metadata": {},
   "outputs": [
    {
     "name": "stdout",
     "output_type": "stream",
     "text": [
      "25\n"
     ]
    }
   ],
   "source": [
    "print(rn.choice(numbers))"
   ]
  },
  {
   "cell_type": "code",
   "execution_count": 12,
   "metadata": {},
   "outputs": [
    {
     "name": "stdout",
     "output_type": "stream",
     "text": [
      "[25, 69, 45, 65, 63, 89, 48, 84, 89, 89, 58, 65]\n"
     ]
    }
   ],
   "source": [
    "rn.shuffle(numbers)\n",
    "print(numbers)"
   ]
  },
  {
   "cell_type": "code",
   "execution_count": 16,
   "metadata": {},
   "outputs": [
    {
     "name": "stdout",
     "output_type": "stream",
     "text": [
      "please provide a number :55\n",
      "55 is an odd number\n"
     ]
    }
   ],
   "source": [
    "num = int(input('please provide a number :'))\n",
    "if num % 2 !=0:\n",
    "    print(f'{num} is an odd number')\n",
    "    # for the if condition it will return an output if the condition is true\n",
    "    "
   ]
  },
  {
   "cell_type": "code",
   "execution_count": 17,
   "metadata": {},
   "outputs": [
    {
     "name": "stdout",
     "output_type": "stream",
     "text": [
      "please provide a number :74\n",
      "74 is an even number\n"
     ]
    }
   ],
   "source": [
    "num = int(input('please provide a number :'))\n",
    "if num % 2 !=0:\n",
    "    print(f'{num} is an odd number')\n",
    "else:\n",
    "    print(f'{num} is an even number')"
   ]
  },
  {
   "cell_type": "code",
   "execution_count": 21,
   "metadata": {},
   "outputs": [
    {
     "name": "stdout",
     "output_type": "stream",
     "text": [
      "please provide a number :35\n",
      "35 is acceptable\n"
     ]
    }
   ],
   "source": [
    "# Exercise 0ne\n",
    "# write a python program to check if a given number is divisible by 5 and 7\n",
    "\n",
    "num = int(input('please provide a number :'))\n",
    "if num % 5 == 0 and num % 7 ==0:\n",
    "    print(f'{num} is acceptable')\n",
    "else:\n",
    "    print(f'{num} is not acceptable')"
   ]
  },
  {
   "cell_type": "code",
   "execution_count": 26,
   "metadata": {},
   "outputs": [
    {
     "name": "stdout",
     "output_type": "stream",
     "text": [
      "Driver's speed:80\n",
      "you are above the speed limit with a point of 2 which is still acceptable BE WARNED\n"
     ]
    }
   ],
   "source": [
    "defaultspeed = 70\n",
    "Dspeed = int(input('Driver\\'s speed:'))\n",
    "if Dspeed<=defaultspeed:\n",
    "    print('speed ok on track')\n",
    "else:\n",
    "    points = (Dspeed - defaultspeed)//5\n",
    "    if points <= 12:\n",
    "        print(f'you are above the speed limit with a point of {points} which is still acceptable BE WARNED')\n",
    "    else:\n",
    "        print(f'you are above the speed limit with a point of {points} which is way above the given point! license suspended')                "
   ]
  },
  {
   "cell_type": "code",
   "execution_count": 27,
   "metadata": {},
   "outputs": [
    {
     "name": "stdout",
     "output_type": "stream",
     "text": [
      "WELCOME TO PRONET MALL !!!!!!!!!!\n",
      "0:Groung floor\n",
      "1:first floor\n",
      "2:second floor\n",
      "3:third floor\n",
      "4:lounge\n",
      "\n",
      "choose the floor you like to go to3\n",
      "!!!!!!!!!!!third floor\n"
     ]
    }
   ],
   "source": [
    "print('WELCOME TO PRONET MALL !!!!!!!!!!')\n",
    "print('''0:Groung floor\n",
    "1:first floor\n",
    "2:second floor\n",
    "3:third floor\n",
    "4:lounge\n",
    "''')\n",
    "choice = int(input('choose the floor you like to go to'))\n",
    "if choice ==1:\n",
    "    print('!!!!!!!!!!!first floor')\n",
    "elif choice ==2:\n",
    "     print('!!!!!!!!!!!second floor')\n",
    "elif choice ==3:\n",
    "     print('!!!!!!!!!!!third floor')\n",
    "elif choice ==4:\n",
    "     print('!!!!!!!!!!!lounge')\n",
    "else:\n",
    "    print('!!!!!!!!!!!ground floor')"
   ]
  },
  {
   "cell_type": "code",
   "execution_count": null,
   "metadata": {},
   "outputs": [],
   "source": [
    "\n"
   ]
  },
  {
   "cell_type": "code",
   "execution_count": null,
   "metadata": {},
   "outputs": [],
   "source": [
    "# By default, statements in the script are executed sequentially from the first to the last. If the processing logic requires so, the sequential flow can be altered in two ways:\n",
    "\n",
    "# Python uses the if keyword to implement decision control. Python's syntax for executing a block conditionally is as below:\n",
    "\n",
    "Syntax:\n",
    "if [boolean expression]:\n",
    "    statement1\n",
    "    statement2\n",
    "    ...\n",
    "    statementN\n",
    " # Any Boolean expression evaluating to True or False appears after the if keyword.\n",
    "# Use the : symbol and press Enter after the expression to start a block with an increased indent.\n",
    "# One or more statements written with the same level of indent will be executed if the Boolean expression evaluates to True.\n",
    "\n",
    "# To end the block, decrease the indentation. \n",
    "# Subsequent statements after the block will be executed out of the if condition. \n",
    "# The following example demonstrates the if condition."
   ]
  },
  {
   "cell_type": "code",
   "execution_count": 1,
   "metadata": {},
   "outputs": [
    {
     "name": "stdout",
     "output_type": "stream",
     "text": [
      "price is less than 100\n"
     ]
    }
   ],
   "source": [
    "price = 50\n",
    "\n",
    "if price < 100:\n",
    "    print(\"price is less than 100\")"
   ]
  },
  {
   "cell_type": "code",
   "execution_count": 2,
   "metadata": {},
   "outputs": [
    {
     "name": "stdout",
     "output_type": "stream",
     "text": [
      "price*quantity is less than 500\n",
      "price =  50\n",
      "quantity =  5\n"
     ]
    }
   ],
   "source": [
    "price = 500    # example with multiple statements in the if condition.\n",
    "quantity = 5\n",
    "if price*quantity < 500:\n",
    "    print(\"price*quantity is less than 500\")\n",
    "    print(\"price = \", price)\n",
    "    print(\"quantity = \", quantity)"
   ]
  },
  {
   "cell_type": "code",
   "execution_count": 2,
   "metadata": {},
   "outputs": [
    {
     "ename": "IndentationError",
     "evalue": "unexpected indent (<ipython-input-2-30bc956c2cbb>, line 7)",
     "output_type": "error",
     "traceback": [
      "\u001b[1;36m  File \u001b[1;32m\"<ipython-input-2-30bc956c2cbb>\"\u001b[1;36m, line \u001b[1;32m7\u001b[0m\n\u001b[1;33m    print(\"quantity = \", quantity)      # If all the statements are not in the same indentation, either space or a tab then it will raise an IdentationError.\u001b[0m\n\u001b[1;37m    ^\u001b[0m\n\u001b[1;31mIndentationError\u001b[0m\u001b[1;31m:\u001b[0m unexpected indent\n"
     ]
    }
   ],
   "source": [
    "# Invalid Indentation in the Block\n",
    "price = 50\n",
    "quantity = 5\n",
    "if price*quantity < 500:\n",
    "    print(\"price is less than 500\")\n",
    "    print(\"price = \", price)\n",
    "        print(\"quantity = \", quantity)      # If all the statements are not in the same indentation, either space or a tab then it will raise an IdentationError."
   ]
  },
  {
   "cell_type": "code",
   "execution_count": 4,
   "metadata": {},
   "outputs": [
    {
     "name": "stdout",
     "output_type": "stream",
     "text": [
      "No if block executed.\n"
     ]
    }
   ],
   "source": [
    "price = 50\n",
    "quantity = 5\n",
    "if price*quantity < 100:\n",
    "    print(\"price is less than 500\")\n",
    "    print(\"price = \", price)\n",
    "    print(\"quantity = \", quantity)\n",
    "print(\"No if block executed.\")    # Out of Block Statements"
   ]
  },
  {
   "cell_type": "code",
   "execution_count": 10,
   "metadata": {},
   "outputs": [
    {
     "name": "stdout",
     "output_type": "stream",
     "text": [
      "please provide a price :120\n",
      "price is greater than 100\n"
     ]
    }
   ],
   "source": [
    "price = int(input('please provide a price :'))\n",
    "\n",
    "if price > 100:\n",
    " print(\"price is greater than 100\")\n",
    "\n",
    "if price == 100:\n",
    "  print(\"price is 100\")\n",
    "\n",
    "if price < 100:\n",
    "    print(\"price is less than 100\")"
   ]
  },
  {
   "cell_type": "code",
   "execution_count": null,
   "metadata": {},
   "outputs": [],
   "source": []
  }
 ],
 "metadata": {
  "kernelspec": {
   "display_name": "Python 3",
   "language": "python",
   "name": "python3"
  },
  "language_info": {
   "codemirror_mode": {
    "name": "ipython",
    "version": 3
   },
   "file_extension": ".py",
   "mimetype": "text/x-python",
   "name": "python",
   "nbconvert_exporter": "python",
   "pygments_lexer": "ipython3",
   "version": "3.8.5"
  }
 },
 "nbformat": 4,
 "nbformat_minor": 4
}
