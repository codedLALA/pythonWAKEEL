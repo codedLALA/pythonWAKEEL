{
 "cells": [
  {
   "cell_type": "code",
   "execution_count": 1,
   "metadata": {},
   "outputs": [
    {
     "name": "stdout",
     "output_type": "stream",
     "text": [
      "Mammal\n"
     ]
    }
   ],
   "source": [
    "class dog:\n",
    "    attr1 = 'Mammal'\n",
    "    attr2 = 'Bark'\n",
    "obj1 = dog()\n",
    "print(obj1.attr1)"
   ]
  },
  {
   "cell_type": "code",
   "execution_count": 2,
   "metadata": {},
   "outputs": [
    {
     "name": "stdout",
     "output_type": "stream",
     "text": [
      "Rocky belongs to the family of Mammal\n",
      "None\n"
     ]
    }
   ],
   "source": [
    "class dog:\n",
    "    attr1 = 'Mammal'\n",
    "    attr2 = 'Bark'\n",
    "    def family(self):\n",
    "        print(f'Rocky belongs to the family of {self.attr1}')\n",
    "obj1 = dog()\n",
    "print(obj1.family())"
   ]
  },
  {
   "cell_type": "code",
   "execution_count": 1,
   "metadata": {},
   "outputs": [],
   "source": [
    "# Brand,Model,Year,Speed,Colour\n",
    "class simulationgame:\n",
    "    def __init__(self,Brand,Model,Color,Year,Speed):\n",
    "        self.Brand = Brand\n",
    "        self.Model = Model\n",
    "        self.Color = Color\n",
    "        self.Year = Year\n",
    "        self.Speed = Speed\n",
    "    def start(self):\n",
    "        print(f'{self.Brand} {self.Model} has started')\n",
    "    def gear(self):\n",
    "        choice = int(input('please choose a gear'))\n",
    "        if choice ==1:\n",
    "            print('Gear changed to 1')\n",
    "        elif choice ==2:\n",
    "            print('Gear changed to 2')\n",
    "        elif choice ==3:\n",
    "            print('Gear changed to 3')\n",
    "        elif choice ==4:\n",
    "            print('Gear changed to 4')\n",
    "        elif choice ==5:\n",
    "            print('Gear changed to 5')\n",
    "        elif choice ==6:\n",
    "            print('Gear put on reverse')\n",
    "    def nitro(self,ch):\n",
    "        if ch ==1:\n",
    "            print('Nitro Engaged')\n",
    "        else:\n",
    "            print('Nitro Disengaged')\n",
    "    def stop(self):\n",
    "        print(f'{self.Brand} {self.Model} has stopped and parked')\n",
    "car1 = simulationgame('Audi','A4','Blue',2018,350)\n",
    "        "
   ]
  },
  {
   "cell_type": "code",
   "execution_count": 6,
   "metadata": {},
   "outputs": [
    {
     "name": "stdout",
     "output_type": "stream",
     "text": [
      "Audi A4 has started\n"
     ]
    }
   ],
   "source": [
    "car1.start()"
   ]
  },
  {
   "cell_type": "code",
   "execution_count": 7,
   "metadata": {},
   "outputs": [
    {
     "name": "stdout",
     "output_type": "stream",
     "text": [
      "please choose a gear3\n",
      "Gear changed to 3\n"
     ]
    }
   ],
   "source": [
    "car1.gear()"
   ]
  },
  {
   "cell_type": "code",
   "execution_count": 10,
   "metadata": {},
   "outputs": [
    {
     "name": "stdout",
     "output_type": "stream",
     "text": [
      "Nitro Engaged\n"
     ]
    }
   ],
   "source": [
    "car1.nitro(1)"
   ]
  },
  {
   "cell_type": "code",
   "execution_count": 11,
   "metadata": {},
   "outputs": [
    {
     "name": "stdout",
     "output_type": "stream",
     "text": [
      "Nitro Disengaged\n"
     ]
    }
   ],
   "source": [
    "car1.nitro(2)"
   ]
  },
  {
   "cell_type": "code",
   "execution_count": 12,
   "metadata": {},
   "outputs": [
    {
     "name": "stdout",
     "output_type": "stream",
     "text": [
      "Audi A4 has stopped and parked\n"
     ]
    }
   ],
   "source": [
    "car1.stop()"
   ]
  },
  {
   "cell_type": "code",
   "execution_count": 13,
   "metadata": {},
   "outputs": [
    {
     "name": "stdout",
     "output_type": "stream",
     "text": [
      "Nitro Disengaged\n"
     ]
    }
   ],
   "source": [
    "car1.nitro(5)"
   ]
  },
  {
   "cell_type": "code",
   "execution_count": null,
   "metadata": {},
   "outputs": [],
   "source": []
  },
  {
   "cell_type": "code",
   "execution_count": null,
   "metadata": {},
   "outputs": [],
   "source": [
    "# inheritance"
   ]
  },
  {
   "cell_type": "code",
   "execution_count": 15,
   "metadata": {},
   "outputs": [
    {
     "name": "stdout",
     "output_type": "stream",
     "text": [
      "Golf M5 has started\n"
     ]
    }
   ],
   "source": [
    "class sedan(simulationgame):\n",
    "    def openroof(self,ch):\n",
    "        if ch == 1:\n",
    "            print('Roof opened')\n",
    "        else:\n",
    "            print('Roof Closed')\n",
    "car2 = sedan('Golf','M5','Black',2021,400)\n",
    "car2.start()"
   ]
  },
  {
   "cell_type": "code",
   "execution_count": 27,
   "metadata": {},
   "outputs": [],
   "source": [
    "class sonic:\n",
    "    def __init__(self,characterName,characterColor,mainPower,generalPower):\n",
    "        self.characterName = characterName\n",
    "        self.characterColor = characterColor\n",
    "        self.mainPower = mainPower\n",
    "        self.generalPower = generalPower\n",
    "    def start(self):\n",
    "        print(f'{self.characterName} has started')\n",
    "    def obstacle1(self):\n",
    "        choice = int(input('please choose obstacle number'))\n",
    "        if choice ==1:\n",
    "            print('obstacle1 to jump over')\n",
    "        elif choice ==2:\n",
    "            print('obstacle1 to roll under')\n",
    "    def obstacle2(self):\n",
    "        choice = int(input('please choose obstacle number'))\n",
    "        if choice ==1:\n",
    "            print('obstacle2 to jump over')\n",
    "        elif choice ==2:\n",
    "            print('obstacle2 to activate power boot and jump over')\n",
    "    def direction(self):\n",
    "        choice = input('please choose obstacle direction L or R:')\n",
    "        if choice == 'L':\n",
    "            print('change direction to R')\n",
    "        elif choice == 'R':\n",
    "            print('change direction to L')\n",
    "        else:\n",
    "            print('maintain direction')\n",
    "    def stop(self):\n",
    "        print(f'{self.characterName} END')\n",
    "                       \n",
    "player1 = sonic('Sonic the Hedgehog','blue','super bash','miles tales power')"
   ]
  },
  {
   "cell_type": "code",
   "execution_count": 28,
   "metadata": {},
   "outputs": [
    {
     "name": "stdout",
     "output_type": "stream",
     "text": [
      "Sonic the Hedgehog has started\n"
     ]
    }
   ],
   "source": [
    "player1.start()"
   ]
  },
  {
   "cell_type": "code",
   "execution_count": 29,
   "metadata": {},
   "outputs": [
    {
     "name": "stdout",
     "output_type": "stream",
     "text": [
      "please choose obstacle number1\n",
      "obstacle1 to jump over\n"
     ]
    }
   ],
   "source": [
    "player1.obstacle1()"
   ]
  },
  {
   "cell_type": "code",
   "execution_count": 30,
   "metadata": {},
   "outputs": [
    {
     "name": "stdout",
     "output_type": "stream",
     "text": [
      "please choose obstacle number2\n",
      "obstacle1 to roll under\n"
     ]
    }
   ],
   "source": [
    "player1.obstacle1()"
   ]
  },
  {
   "cell_type": "code",
   "execution_count": 31,
   "metadata": {},
   "outputs": [
    {
     "name": "stdout",
     "output_type": "stream",
     "text": [
      "please choose obstacle number3\n"
     ]
    }
   ],
   "source": [
    "player1.obstacle2()"
   ]
  },
  {
   "cell_type": "code",
   "execution_count": 32,
   "metadata": {},
   "outputs": [
    {
     "name": "stdout",
     "output_type": "stream",
     "text": [
      "please choose obstacle number1\n",
      "obstacle2 to jump over\n"
     ]
    }
   ],
   "source": [
    "player1.obstacle2()"
   ]
  },
  {
   "cell_type": "code",
   "execution_count": 33,
   "metadata": {},
   "outputs": [
    {
     "name": "stdout",
     "output_type": "stream",
     "text": [
      "please choose obstacle direction L or R:R\n",
      "change direction to L\n"
     ]
    }
   ],
   "source": [
    "player1.direction()"
   ]
  },
  {
   "cell_type": "code",
   "execution_count": 34,
   "metadata": {},
   "outputs": [
    {
     "name": "stdout",
     "output_type": "stream",
     "text": [
      "please choose obstacle direction L or R:L\n",
      "change direction to R\n"
     ]
    }
   ],
   "source": [
    "player1.direction()"
   ]
  },
  {
   "cell_type": "code",
   "execution_count": 36,
   "metadata": {},
   "outputs": [
    {
     "name": "stdout",
     "output_type": "stream",
     "text": [
      "Sonic the Hedgehog END\n"
     ]
    }
   ],
   "source": [
    "player1.stop()"
   ]
  },
  {
   "cell_type": "code",
   "execution_count": null,
   "metadata": {},
   "outputs": [],
   "source": []
  }
 ],
 "metadata": {
  "kernelspec": {
   "display_name": "Python 3",
   "language": "python",
   "name": "python3"
  },
  "language_info": {
   "codemirror_mode": {
    "name": "ipython",
    "version": 3
   },
   "file_extension": ".py",
   "mimetype": "text/x-python",
   "name": "python",
   "nbconvert_exporter": "python",
   "pygments_lexer": "ipython3",
   "version": "3.8.5"
  }
 },
 "nbformat": 4,
 "nbformat_minor": 4
}
