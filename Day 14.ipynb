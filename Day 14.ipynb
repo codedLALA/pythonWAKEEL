{
 "cells": [
  {
   "cell_type": "code",
   "execution_count": 1,
   "metadata": {},
   "outputs": [
    {
     "name": "stdout",
     "output_type": "stream",
     "text": [
      "======== The list of the phone that the store have =========\n",
      "1 . SAMSUNG:S8+::140000\n"
     ]
    }
   ],
   "source": [
    "class phonestore:\n",
    "    def __init__(self,Pname,Modelno,price,):\n",
    "        self.Pname = Pname\n",
    "        self.Modelno = Modelno\n",
    "        self.price = price\n",
    "    def getmodel(self):\n",
    "        return self.Modelno\n",
    "    def getprice(self):\n",
    "        return self.price\n",
    "    def __str__(self):\n",
    "        return self.Pname + ':' + str(self.getmodel())+ '::' + str(self.getprice())\n",
    "def prices(rec,Pname,Modelno,price):\n",
    "    rec.append(phonestore(Pname,Modelno,price))\n",
    "    return rec\n",
    "record = []\n",
    "x = input('enter Y as yes and N as no to perform your operation:')\n",
    "while x == 'Y':\n",
    "    Pname = input('phone name:')\n",
    "    Modelno = input('model number:')\n",
    "    price = input('price')\n",
    "    record = prices(record,Pname,Modelno,price)\n",
    "    x = input('enter Y as yes and N as no to perform your operation:')\n",
    "n = 1\n",
    "print(\"======== The list of the phone that the store have =========\")\n",
    "for item in record:\n",
    "    print(n, '.', item)\n",
    "    n =n+1\n",
    "\n",
    "        "
   ]
  },
  {
   "cell_type": "code",
   "execution_count": null,
   "metadata": {},
   "outputs": [],
   "source": []
  },
  {
   "cell_type": "code",
   "execution_count": null,
   "metadata": {},
   "outputs": [],
   "source": [
    "# try\n",
    "# except\n",
    "# else\n",
    "# finally"
   ]
  },
  {
   "cell_type": "code",
   "execution_count": 5,
   "metadata": {},
   "outputs": [
    {
     "name": "stdout",
     "output_type": "stream",
     "text": [
      "Enter First Number40\n",
      "Enter Second Number2\n",
      "+:Addition\n",
      "-:substraction\n",
      "*:multiplication\n",
      "/:division\n",
      "/\n",
      "40 / 2 = 20.0\n",
      "40 ** 2 = 1600\n",
      "End of program\n"
     ]
    }
   ],
   "source": [
    "try:\n",
    "    num1 = int(input('Enter First Number'))\n",
    "    num2 = int(input('Enter Second Number'))\n",
    "    operation= input('''+:Addition\n",
    "-:substraction\n",
    "*:multiplication\n",
    "/:division\n",
    "''')\n",
    "    if operation == '+':\n",
    "        print(f'{num1} + {num2} = {num1 + num2}')\n",
    "    elif operation == '-':\n",
    "        print(f'{num1} - {num2} = {num1 - num2}')\n",
    "    elif operation == '*':\n",
    "        print(f'{num1} * {num2} = {num1 * num2}')\n",
    "    elif operation == '/':\n",
    "        print(f'{num1} / {num2} = {num1 / num2}')\n",
    "except ValueError:\n",
    "    print('You have entered a wrong value only integer value should be entered')\n",
    "except ZeroDivisionError:\n",
    "    print('you cannot divide a number by zero')\n",
    "except:\n",
    "    print('you have encountered one or more errors')\n",
    "else:\n",
    "    print(f'{num1} ** {num2} = {num1**num2}')\n",
    "finally:\n",
    "    print('End of program')\n",
    "        "
   ]
  },
  {
   "cell_type": "code",
   "execution_count": null,
   "metadata": {},
   "outputs": [],
   "source": []
  }
 ],
 "metadata": {
  "interpreter": {
   "hash": "9b8f5c5ddb75155eaf79b98bd9cddf903523afff6c17895fe37f71c217fa416d"
  },
  "kernelspec": {
   "display_name": "Python 3.8.5 ('base')",
   "language": "python",
   "name": "python3"
  },
  "language_info": {
   "codemirror_mode": {
    "name": "ipython",
    "version": 3
   },
   "file_extension": ".py",
   "mimetype": "text/x-python",
   "name": "python",
   "nbconvert_exporter": "python",
   "pygments_lexer": "ipython3",
   "version": "3.8.5"
  }
 },
 "nbformat": 4,
 "nbformat_minor": 4
}
