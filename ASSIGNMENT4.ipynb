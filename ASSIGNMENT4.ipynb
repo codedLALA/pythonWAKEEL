{
 "cells": [
  {
   "cell_type": "code",
   "execution_count": 24,
   "metadata": {},
   "outputs": [
    {
     "name": "stdout",
     "output_type": "stream",
     "text": [
      "please provide salary amount:120000\n",
      "please provide years of service:6\n",
      "your salary is : {126000.0}\n"
     ]
    }
   ],
   "source": [
    "    # 1. A company decided to give bonus of 5% to employee if his/her year of service is more than 5 years.\n",
    "    # Ask user for their salary and year of service and print the net bonus amount.\n",
    "\n",
    "salary = int(input('please provide salary amount:'))\n",
    "year = int(input('please provide years of service:'))\n",
    "bonus= 5/100 *(salary)\n",
    "newsalary=(salary + bonus)\n",
    "    if year<=5:\n",
    "        print(salary)\n",
    "    else:\n",
    "        print(f'your salary is :',{newsalary})"
   ]
  },
  {
   "cell_type": "code",
   "execution_count": 25,
   "metadata": {},
   "outputs": [
    {
     "name": "stdout",
     "output_type": "stream",
     "text": [
      "please provide a number :30\n",
      "please provide a number :25\n",
      "30 is the greatest\n"
     ]
    }
   ],
   "source": [
    "# 2. Take two int values from user and print greatest among them.\n",
    "\n",
    "num1 = int(input('please provide a number :'))\n",
    "num2 = int(input('please provide a number :'))\n",
    "if num1>num2:\n",
    "     print(f'{num1} is the greatest') \n",
    "else:\n",
    "    print(f'{num2} is the greatest')"
   ]
  },
  {
   "cell_type": "code",
   "execution_count": 5,
   "metadata": {},
   "outputs": [
    {
     "name": "stdout",
     "output_type": "stream",
     "text": [
      "please provide your age Age1 :16\n",
      "please provide your age :18\n",
      "please provide your age :10\n",
      "age2 is the oldest and age1 is the youngest\n"
     ]
    }
   ],
   "source": [
    "# Take input of age of 3 people by user and determine oldest and youngest among them.\n",
    "age1 = int(input('please provide your age Age1 :'))\n",
    "age2 = int(input('please provide your age :'))\n",
    "age3 = int(input('please provide your age :'))\n",
    "if age1>age2 and age1>age3:\n",
    "    print(f'age1 is the oldest')\n",
    "elif\n",
    "(f'age1 is the oldest and age3 is the youngest')\n",
    "    \n",
    "if age2>age1 and age2>age3:\n",
    "    print(f'age2 is the oldest and age1 is the youngest')\n",
    "else:\n",
    "    (f'age2 is the oldest and age3 is the youngest')\n",
    "    \n",
    "if age3>age1 and age3>age2:\n",
    "    print(f'age3 is the oldest and age1 is the youngest')\n",
    "else:\n",
    "    (f'age3 is the oldest and age2 is the youngest')"
   ]
  },
  {
   "cell_type": "code",
   "execution_count": null,
   "metadata": {},
   "outputs": [],
   "source": []
  }
 ],
 "metadata": {
  "kernelspec": {
   "display_name": "Python 3",
   "language": "python",
   "name": "python3"
  },
  "language_info": {
   "codemirror_mode": {
    "name": "ipython",
    "version": 3
   },
   "file_extension": ".py",
   "mimetype": "text/x-python",
   "name": "python",
   "nbconvert_exporter": "python",
   "pygments_lexer": "ipython3",
   "version": "3.8.5"
  }
 },
 "nbformat": 4,
 "nbformat_minor": 4
}
