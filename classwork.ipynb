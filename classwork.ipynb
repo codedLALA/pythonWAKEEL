{
 "cells": [
  {
   "cell_type": "code",
   "execution_count": 13,
   "metadata": {},
   "outputs": [
    {
     "name": "stdout",
     "output_type": "stream",
     "text": [
      "WELCOME TO SIMPLY ANSWER MEDICAL CENTRE\n",
      "BEFORE WE CHECK YOUR BODY MASS INDEX PLEASE PROVIDE US WITH THE FOLLOWING INFORMATION\n",
      "please enter your name:wakeel\n",
      "please enter your gender:male\n",
      "please enter your age45\n",
      "please enter your countrynigeria\n",
      "Name:wakeel\n",
      "Gender:male\n",
      "Age:45\n",
      "Country:nigeria\n",
      "\n",
      "Welcome wakeel from nigeria\n",
      "please provide your weight in kilogram84\n",
      "please provide your height in centimeter1.75\n",
      "Your BMI Score is 27.43,Therefore you are overweight,see Doctor Mary for proper Management\n"
     ]
    }
   ],
   "source": [
    "def intro():\n",
    "    print('WELCOME TO SIMPLY ANSWER MEDICAL CENTRE')\n",
    "    print('BEFORE WE CHECK YOUR BODY MASS INDEX PLEASE PROVIDE US WITH THE FOLLOWING INFORMATION')\n",
    "    name  = input('please enter your name:')\n",
    "    gender =input('please enter your gender:')\n",
    "    age = int(input('please enter your age'))\n",
    "    country = input('please enter your country')\n",
    "    print(f'''Name:{name}\n",
    "Gender:{gender}\n",
    "Age:{age}\n",
    "Country:{country}\n",
    "''')\n",
    "    print(f'Welcome {name} from {country}')\n",
    "    \n",
    "def main_function():\n",
    "    intro()\n",
    "    weight = float(input('please provide your weight in kilogram:'))\n",
    "    height = float(input('please provide your height in centimeter:'))\n",
    "    bmi = (weight)/(height**2)\n",
    "    if bmi<18.5:\n",
    "        print(f'Your BMI Score is {round(bmi,2)},Therefore you are underweight,see Doctor Animasahun')\n",
    "    elif bmi>= 18.5 and bmi<=24.9:\n",
    "        print(f'Your BMI Score is {round(bmi,2)},Therefore you are Healthy Maintain your Diet')\n",
    "    elif bmi>= 25 and bmi<=30:\n",
    "        print(f'Your BMI Score is {round(bmi,2)},Therefore you are overweight,see Doctor Mary for proper Management')\n",
    "    else:\n",
    "        print(f'Your BMI Score is {round(bmi,2)},Therefore you are Obesse,see Doctor Afod immediately for proper Management and diet')\n",
    "main_function()\n"
   ]
  },
  {
   "cell_type": "code",
   "execution_count": null,
   "metadata": {},
   "outputs": [],
   "source": []
  },
  {
   "cell_type": "code",
   "execution_count": 16,
   "metadata": {},
   "outputs": [
    {
     "name": "stdout",
     "output_type": "stream",
     "text": [
      "provide a number20\n"
     ]
    },
    {
     "data": {
      "text/plain": [
       "4.47213595499958"
      ]
     },
     "execution_count": 16,
     "metadata": {},
     "output_type": "execute_result"
    }
   ],
   "source": [
    " # lambda function\n",
    "import math\n",
    "(lambda num:math.sqrt(num))(int(input('provide a number')))"
   ]
  },
  {
   "cell_type": "code",
   "execution_count": 17,
   "metadata": {},
   "outputs": [
    {
     "name": "stdout",
     "output_type": "stream",
     "text": [
      "please provide your name:Wakeel\n"
     ]
    },
    {
     "data": {
      "text/plain": [
       "'Wakeel start with upper case'"
      ]
     },
     "execution_count": 17,
     "metadata": {},
     "output_type": "execute_result"
    }
   ],
   "source": [
    "(lambda name: f'{name} start with upper case' if name[0]== name[0].upper() else f'{name} does not start with upper case')(input('please provide your name:'))\n"
   ]
  },
  {
   "cell_type": "code",
   "execution_count": 18,
   "metadata": {},
   "outputs": [
    {
     "name": "stdout",
     "output_type": "stream",
     "text": [
      "please provide your name:wakeel\n"
     ]
    },
    {
     "data": {
      "text/plain": [
       "'wakeel does not start with upper case'"
      ]
     },
     "execution_count": 18,
     "metadata": {},
     "output_type": "execute_result"
    }
   ],
   "source": [
    "(lambda name: f'{name} start with upper case' if name[0]== name[0].upper() else f'{name} does not start with upper case')(input('please provide your name:'))"
   ]
  },
  {
   "cell_type": "code",
   "execution_count": null,
   "metadata": {},
   "outputs": [],
   "source": []
  },
  {
   "cell_type": "code",
   "execution_count": 20,
   "metadata": {},
   "outputs": [
    {
     "name": "stdout",
     "output_type": "stream",
     "text": [
      "['BINGO', 'CAPPY', 'HARRY', 'BELLA', 'FREEMAN', 'ROCKY']\n"
     ]
    }
   ],
   "source": [
    "dogs = ['Bingo','Cappy','Harry','Bella','Freeman','Rocky']\n",
    "dogs2 = list(map(lambda x:str.upper(x),dogs))\n",
    "print(dogs2)"
   ]
  },
  {
   "cell_type": "code",
   "execution_count": 21,
   "metadata": {},
   "outputs": [
    {
     "name": "stdout",
     "output_type": "stream",
     "text": [
      "['Bingo', 'Bella']\n"
     ]
    }
   ],
   "source": [
    "dogs = ['Bingo','Cappy','Harry','Bella','Freeman','Rocky']\n",
    "dogs2 = list(filter(lambda x: x.startswith('B'),dogs))\n",
    "print(dogs2)"
   ]
  },
  {
   "cell_type": "code",
   "execution_count": null,
   "metadata": {},
   "outputs": [],
   "source": []
  }
 ],
 "metadata": {
  "kernelspec": {
   "display_name": "Python 3",
   "language": "python",
   "name": "python3"
  },
  "language_info": {
   "codemirror_mode": {
    "name": "ipython",
    "version": 3
   },
   "file_extension": ".py",
   "mimetype": "text/x-python",
   "name": "python",
   "nbconvert_exporter": "python",
   "pygments_lexer": "ipython3",
   "version": "3.8.5"
  }
 },
 "nbformat": 4,
 "nbformat_minor": 4
}
